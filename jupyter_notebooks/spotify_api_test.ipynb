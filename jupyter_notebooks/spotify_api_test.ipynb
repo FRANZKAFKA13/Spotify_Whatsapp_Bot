{
 "cells": [
  {
   "source": [
    "## Import required packages"
   ],
   "cell_type": "markdown",
   "metadata": {}
  },
  {
   "cell_type": "code",
   "execution_count": 5,
   "metadata": {},
   "outputs": [],
   "source": [
    "import numpy as np \n",
    "import pandas as pd\n",
    "import spotipy\n",
    "from spotipy.oauth2 import SpotifyClientCredentials\n",
    "\n",
    "import json"
   ]
  },
  {
   "cell_type": "code",
   "execution_count": 66,
   "metadata": {},
   "outputs": [
    {
     "output_type": "stream",
     "name": "stdout",
     "text": [
      "README.md  data\t\t      requirements.txt\tscripts\nbot_env    jupyter_notebooks  resources\n"
     ]
    }
   ],
   "source": [
    "!ls"
   ]
  },
  {
   "source": [
    "## Authenticate with Spotify API"
   ],
   "cell_type": "markdown",
   "metadata": {}
  },
  {
   "cell_type": "code",
   "execution_count": 67,
   "id": "f039e346",
   "metadata": {
    "tags": []
   },
   "outputs": [],
   "source": [
    "# Credentials are specified in the \"activate\" script from the venv and can be obtained in the Spotify Developer Platform\n",
    "auth_manager = SpotifyClientCredentials()\n",
    "sp = spotipy.Spotify(auth_manager=auth_manager)"
   ]
  },
  {
   "source": [
    "### Show playlists to check if connection works"
   ],
   "cell_type": "code",
   "metadata": {},
   "execution_count": 8,
   "outputs": []
  },
  {
   "cell_type": "code",
   "execution_count": 9,
   "metadata": {},
   "outputs": [
    {
     "output_type": "stream",
     "name": "stdout",
     "text": [
      "   1 spotify:playlist:6pm6NYE8x95f3qu9nnkY3s Gestört\n   2 spotify:playlist:3w4J1cBM7G8A3FJpmkQCks Jump Rope Fun\n   3 spotify:playlist:22F1DzV6R5WTtaU5ZBx1Qh Alman Rap\n   4 spotify:playlist:7sRH3hcKY9vi5Om9hKWED6 Dancehall Excellence\n   5 spotify:playlist:7bKCXksqUpwO2u77DNDB6E Schweche Excellence\n   6 spotify:playlist:2NL4skzzhfDIWGexthIoti Cloudrap und sowas\n   7 spotify:playlist:45jLD4C7zDnVwmrs9Q2Yst Chill Excellence\n   8 spotify:playlist:7JLpMUShki1OtQBbq0SJSD Spulung\n   9 spotify:playlist:6UcKBh9vtZOGIMEx1FGXGj Hip Hop Excellence\n  10 spotify:playlist:4IksObf8ZWrLkyWhcOp1Vp Classic Excellence\n  11 spotify:playlist:62jUJdEWgsCmrh2EpCABRG Rock Excellence\n  12 spotify:playlist:5QKkIeuRrBQ2L501fAi5vy Melancholy Excellence\n  13 spotify:playlist:7i2EfrY01tIbPZ81sQXKKE Nostalgia Excellence\n  14 spotify:playlist:5mJ07XW8fizydNB9mqRzKk Zu Arg für Bib LEL²\n  15 spotify:playlist:48sxmNjqMplmnbSjnky8Tz Memes\n"
     ]
    }
   ],
   "source": [
    "playlists = sp.user_playlists('arthevard')\n",
    "while playlists:\n",
    "    for i, playlist in enumerate(playlists['items']):\n",
    "        print(\"%4d %s %s\" % (i + 1 + playlists['offset'], playlist['uri'],  playlist['name']))\n",
    "    if playlists['next']:\n",
    "        playlists = sp.next(playlists)\n",
    "    else:\n",
    "        playlists = None"
   ]
  },
  {
   "cell_type": "code",
   "execution_count": 10,
   "metadata": {},
   "outputs": [
    {
     "output_type": "stream",
     "name": "stdout",
     "text": [
      "{\n  \"external_urls\": {\n    \"spotify\": \"https://open.spotify.com/artist/3NjbpG6MmFGVLXwbcPXH90\"\n  },\n  \"followers\": {\n    \"href\": null,\n    \"total\": 62776\n  },\n  \"genres\": [\n    \"frauenrap\",\n    \"german cloud rap\",\n    \"german drill\",\n    \"german hip hop\",\n    \"indie deutschrap\"\n  ],\n  \"href\": \"https://api.spotify.com/v1/artists/3NjbpG6MmFGVLXwbcPXH90\",\n  \"id\": \"3NjbpG6MmFGVLXwbcPXH90\",\n  \"images\": [\n    {\n      \"height\": 640,\n      \"url\": \"https://i.scdn.co/image/ab6761610000e5eb2b38a3b9a27030af33128bf9\",\n      \"width\": 640\n    },\n    {\n      \"height\": 320,\n      \"url\": \"https://i.scdn.co/image/ab676161000051742b38a3b9a27030af33128bf9\",\n      \"width\": 320\n    },\n    {\n      \"height\": 160,\n      \"url\": \"https://i.scdn.co/image/ab6761610000f1782b38a3b9a27030af33128bf9\",\n      \"width\": 160\n    }\n  ],\n  \"name\": \"Haiyti\",\n  \"popularity\": 56,\n  \"type\": \"artist\",\n  \"uri\": \"spotify:artist:3NjbpG6MmFGVLXwbcPXH90\"\n}\n"
     ]
    }
   ],
   "source": [
    "\n",
    "urn = 'spotify:artist:3NjbpG6MmFGVLXwbcPXH90'\n",
    "artist = sp.artist(urn)\n",
    "print(json.dumps(artist, indent=2))\n",
    "\n"
   ]
  },
  {
   "source": [
    "# Import users and artists URIs from CSV files"
   ],
   "cell_type": "markdown",
   "metadata": {}
  },
  {
   "cell_type": "code",
   "execution_count": 11,
   "metadata": {},
   "outputs": [],
   "source": [
    "user_uri_list = pd.read_csv(\"data/users.csv\", sep=\";\")[\"user_uri\"]\n",
    "artist_uri_list = pd.read_csv(\"data/artists.csv\", sep=\";\")[\"artist_uri\"]"
   ]
  },
  {
   "cell_type": "code",
   "execution_count": null,
   "metadata": {},
   "outputs": [],
   "source": []
  },
  {
   "cell_type": "code",
   "execution_count": 12,
   "metadata": {},
   "outputs": [
    {
     "output_type": "execute_result",
     "data": {
      "text/plain": [
       "{'display_name': 'Carsten We',\n",
       " 'external_urls': {'spotify': 'https://open.spotify.com/user/arthevard'},\n",
       " 'followers': {'href': None, 'total': 21},\n",
       " 'href': 'https://api.spotify.com/v1/users/arthevard',\n",
       " 'id': 'arthevard',\n",
       " 'images': [{'height': None,\n",
       "   'url': 'https://scontent-lcy1-1.xx.fbcdn.net/v/t1.6435-1/p320x320/36594189_10214425521425989_1333356851693092864_n.jpg?_nc_cat=110&ccb=1-3&_nc_sid=0c64ff&_nc_ohc=ghacmvYW1FsAX_t8azS&_nc_ht=scontent-lcy1-1.xx&tp=6&oh=db285e745ce7b56774c9bb105b6220eb&oe=60A3559D',\n",
       "   'width': None}],\n",
       " 'type': 'user',\n",
       " 'uri': 'spotify:user:arthevard'}"
      ]
     },
     "metadata": {},
     "execution_count": 12
    }
   ],
   "source": [
    "user = sp.user(user_uri_list[0])\n",
    "user"
   ]
  },
  {
   "source": [
    "## Write basic functions to extract data from artists"
   ],
   "cell_type": "markdown",
   "metadata": {}
  },
  {
   "cell_type": "code",
   "execution_count": 13,
   "metadata": {},
   "outputs": [],
   "source": [
    "def get_albums_from_artists(artist_uri_list):\n",
    "    \"\"\"A function returning albums from a list of artist URIs as pandas DataFrame.\n",
    "\n",
    "    Args:\n",
    "        artist_uri_list (list): A list containing artist URIs.\n",
    "\n",
    "    Returns:\n",
    "        DataFrame: A pandas DataFrame containing artist names, URIs, and release date.\n",
    "    \"\"\"\n",
    "\n",
    "    # Create header for output df\n",
    "    albums_list = [[\"name\", \"album_uri\", \"album_release_date\", \"artist_uri\"]]\n",
    "\n",
    "    # Loop through list of artist uris\n",
    "    for artist_uri in artist_uri_list:\n",
    "        # Get album from artist\n",
    "        albums = sp.artist_albums(artist_uri)\n",
    "        \n",
    "        # Append each album to list\n",
    "        for album in albums[\"items\"]:\n",
    "            album_name = album[\"name\"]\n",
    "            album_uri = album[\"uri\"]\n",
    "            album_release_date = album[\"release_date\"]\n",
    "            albums_list.append([album_name, album_uri, album_release_date, artist_uri])\n",
    "\n",
    "    # Create df from list of albums for all artist\n",
    "    albums_df = pd.DataFrame(data=albums_list[1:], columns=albums_list[0])\n",
    "\n",
    "    return albums_df\n"
   ]
  },
  {
   "cell_type": "code",
   "execution_count": 14,
   "metadata": {},
   "outputs": [
    {
     "output_type": "stream",
     "name": "stdout",
     "text": [
      "Number of albums: 80\nHead of albums dataframe:\n"
     ]
    },
    {
     "output_type": "execute_result",
     "data": {
      "text/plain": [
       "                  name                             album_uri  \\\n",
       "0         MIESES LEBEN  spotify:album:18iDtijC0YUY43T2teLEiK   \n",
       "1           influencer  spotify:album:7MguPrKUh0eyZY0VqmMO0G   \n",
       "2              SUI SUI  spotify:album:2M51xiotVFca2hT7OppmgK   \n",
       "3  Nightliner Reloaded  spotify:album:5KYZEBBBwDPZ9UY9Tpr3E0   \n",
       "4            Perroquet  spotify:album:5h5iAcFwOtsKZJZRMCZ8HV   \n",
       "\n",
       "  album_release_date                             artist_uri  \n",
       "0         2021-04-15  spotify:artist:3NjbpG6MmFGVLXwbcPXH90  \n",
       "1         2020-12-04  spotify:artist:3NjbpG6MmFGVLXwbcPXH90  \n",
       "2         2020-07-03  spotify:artist:3NjbpG6MmFGVLXwbcPXH90  \n",
       "3         2019-10-25  spotify:artist:3NjbpG6MmFGVLXwbcPXH90  \n",
       "4         2019-06-07  spotify:artist:3NjbpG6MmFGVLXwbcPXH90  "
      ],
      "text/html": "<div>\n<style scoped>\n    .dataframe tbody tr th:only-of-type {\n        vertical-align: middle;\n    }\n\n    .dataframe tbody tr th {\n        vertical-align: top;\n    }\n\n    .dataframe thead th {\n        text-align: right;\n    }\n</style>\n<table border=\"1\" class=\"dataframe\">\n  <thead>\n    <tr style=\"text-align: right;\">\n      <th></th>\n      <th>name</th>\n      <th>album_uri</th>\n      <th>album_release_date</th>\n      <th>artist_uri</th>\n    </tr>\n  </thead>\n  <tbody>\n    <tr>\n      <th>0</th>\n      <td>MIESES LEBEN</td>\n      <td>spotify:album:18iDtijC0YUY43T2teLEiK</td>\n      <td>2021-04-15</td>\n      <td>spotify:artist:3NjbpG6MmFGVLXwbcPXH90</td>\n    </tr>\n    <tr>\n      <th>1</th>\n      <td>influencer</td>\n      <td>spotify:album:7MguPrKUh0eyZY0VqmMO0G</td>\n      <td>2020-12-04</td>\n      <td>spotify:artist:3NjbpG6MmFGVLXwbcPXH90</td>\n    </tr>\n    <tr>\n      <th>2</th>\n      <td>SUI SUI</td>\n      <td>spotify:album:2M51xiotVFca2hT7OppmgK</td>\n      <td>2020-07-03</td>\n      <td>spotify:artist:3NjbpG6MmFGVLXwbcPXH90</td>\n    </tr>\n    <tr>\n      <th>3</th>\n      <td>Nightliner Reloaded</td>\n      <td>spotify:album:5KYZEBBBwDPZ9UY9Tpr3E0</td>\n      <td>2019-10-25</td>\n      <td>spotify:artist:3NjbpG6MmFGVLXwbcPXH90</td>\n    </tr>\n    <tr>\n      <th>4</th>\n      <td>Perroquet</td>\n      <td>spotify:album:5h5iAcFwOtsKZJZRMCZ8HV</td>\n      <td>2019-06-07</td>\n      <td>spotify:artist:3NjbpG6MmFGVLXwbcPXH90</td>\n    </tr>\n  </tbody>\n</table>\n</div>"
     },
     "metadata": {},
     "execution_count": 14
    }
   ],
   "source": [
    "albums_df = get_albums_from_artists(artist_uri_list)\n",
    "print(\"Number of albums: \" + str(albums_df.shape[0]))\n",
    "print(\"Head of albums dataframe:\")\n",
    "albums_df.head()"
   ]
  },
  {
   "cell_type": "code",
   "execution_count": 15,
   "metadata": {},
   "outputs": [],
   "source": [
    "def get_tracks_from_albums(album_uri_list):\n",
    "    \"\"\"A function returning tracks from a list of album URIs as pandas DataFrame.\n",
    "\n",
    "    Args:\n",
    "        album_uri_list (list): A list containing album URIs.\n",
    "\n",
    "    Returns:\n",
    "        DataFrame: A pandas DataFrame containing track names, URIs and release dates.\n",
    "    \"\"\"\n",
    "\n",
    "    track_list = [[\"track_name\", \"track_uri\", \"track_release_date\"]]\n",
    "\n",
    "    for album_uri in album_uri_list:\n",
    "        album_tracks = sp.album_tracks(album_uri, limit=50, offset=0)[\"items\"]\n",
    "        count_tracks_in_album = len(album_tracks)\n",
    "        album_release_date = sp.album(album_uri)[\"release_date\"]\n",
    "\n",
    "        # This part is probably very slow and should be improved by accessing the API less often\n",
    "        for track_number in range(count_tracks_in_album):\n",
    "            track_name = album_tracks[track_number][\"name\"]\n",
    "            track_uri = album_tracks[track_number][\"uri\"]\n",
    "             \n",
    "            track_list.append([track_name, track_uri, album_release_date])\n",
    "\n",
    "    # Create df from list of tracks for all albums\n",
    "    track_df = pd.DataFrame(data=track_list[1:], columns=track_list[0])\n",
    "    \n",
    "    return track_df"
   ]
  },
  {
   "cell_type": "code",
   "execution_count": 91,
   "metadata": {},
   "outputs": [
    {
     "output_type": "execute_result",
     "data": {
      "text/plain": [
       "        track_name                             track_uri track_release_date\n",
       "0            INTRO  spotify:track:75R9wfcPJyCXZ6fXV1IgQC         2021-04-15\n",
       "1  ROBBERY IS BACK  spotify:track:5aEw37R8QW6ppQIYYHVKKp         2021-04-15\n",
       "2             SNOB  spotify:track:6fgwmfyNfaf9FxfcyjHdNA         2021-04-15\n",
       "3              OMG  spotify:track:4xvetmz1M1ECP8pkUkQezO         2021-04-15\n",
       "4          TOXISCH  spotify:track:2E7aEEoiG3tE9RSWfDaVEZ         2021-04-15"
      ],
      "text/html": "<div>\n<style scoped>\n    .dataframe tbody tr th:only-of-type {\n        vertical-align: middle;\n    }\n\n    .dataframe tbody tr th {\n        vertical-align: top;\n    }\n\n    .dataframe thead th {\n        text-align: right;\n    }\n</style>\n<table border=\"1\" class=\"dataframe\">\n  <thead>\n    <tr style=\"text-align: right;\">\n      <th></th>\n      <th>track_name</th>\n      <th>track_uri</th>\n      <th>track_release_date</th>\n    </tr>\n  </thead>\n  <tbody>\n    <tr>\n      <th>0</th>\n      <td>INTRO</td>\n      <td>spotify:track:75R9wfcPJyCXZ6fXV1IgQC</td>\n      <td>2021-04-15</td>\n    </tr>\n    <tr>\n      <th>1</th>\n      <td>ROBBERY IS BACK</td>\n      <td>spotify:track:5aEw37R8QW6ppQIYYHVKKp</td>\n      <td>2021-04-15</td>\n    </tr>\n    <tr>\n      <th>2</th>\n      <td>SNOB</td>\n      <td>spotify:track:6fgwmfyNfaf9FxfcyjHdNA</td>\n      <td>2021-04-15</td>\n    </tr>\n    <tr>\n      <th>3</th>\n      <td>OMG</td>\n      <td>spotify:track:4xvetmz1M1ECP8pkUkQezO</td>\n      <td>2021-04-15</td>\n    </tr>\n    <tr>\n      <th>4</th>\n      <td>TOXISCH</td>\n      <td>spotify:track:2E7aEEoiG3tE9RSWfDaVEZ</td>\n      <td>2021-04-15</td>\n    </tr>\n  </tbody>\n</table>\n</div>"
     },
     "metadata": {},
     "execution_count": 91
    }
   ],
   "source": [
    "tracks = get_tracks_from_albums([\"18iDtijC0YUY43T2teLEiK\"])\n",
    "tracks.head()\n"
   ]
  },
  {
   "cell_type": "code",
   "execution_count": 30,
   "metadata": {},
   "outputs": [
    {
     "output_type": "execute_result",
     "data": {
      "text/plain": [
       "            track_name                             track_uri  \\\n",
       "0                INTRO  spotify:track:75R9wfcPJyCXZ6fXV1IgQC   \n",
       "1      ROBBERY IS BACK  spotify:track:5aEw37R8QW6ppQIYYHVKKp   \n",
       "2                 SNOB  spotify:track:6fgwmfyNfaf9FxfcyjHdNA   \n",
       "3                  OMG  spotify:track:4xvetmz1M1ECP8pkUkQezO   \n",
       "4              TOXISCH  spotify:track:2E7aEEoiG3tE9RSWfDaVEZ   \n",
       "5           PAPI CHAIN  spotify:track:6Px6MaH8R6CQfneAD6cVjB   \n",
       "6           HELIKOPTER  spotify:track:41Xwa5IuEqV0okKFygVZI8   \n",
       "7              FREITAG  spotify:track:1zLuIPhPHk14s4I5uOtqaS   \n",
       "8             WAS NOCH  spotify:track:161RGAj9K2svKcfPwDNnFl   \n",
       "9           ERSTER TAG  spotify:track:1kxXL1KDNUuO8mTgP5sFQw   \n",
       "10               PARIS  spotify:track:01fHqSOFl73ihgwKGodfnh   \n",
       "11         MINUSMENSCH  spotify:track:6LQjeCvIgzXuBofA4FHtrr   \n",
       "12    8 STUNDEN ARBEIT  spotify:track:6WtQn4OhVPGrW0kaBXoQG9   \n",
       "13             TRAP OG  spotify:track:3iIpv8suz3odKCYqlKiwL5   \n",
       "14    REGEN UND NIESEL  spotify:track:3vauLpX7158qOP131qvmkl   \n",
       "15               50/50  spotify:track:1uhR7K2eKwfkVSYEeqXbEd   \n",
       "16  ASZENDENT TRAPSTAR  spotify:track:5YTujqBybHaLofbFSTrHqo   \n",
       "17              WOLKEN  spotify:track:4u49B5JHLMUhnRqfen2JCs   \n",
       "\n",
       "   track_release_date  \n",
       "0          2021-04-15  \n",
       "1          2021-04-15  \n",
       "2          2021-04-15  \n",
       "3          2021-04-15  \n",
       "4          2021-04-15  \n",
       "5          2021-04-15  \n",
       "6          2021-04-15  \n",
       "7          2021-04-15  \n",
       "8          2021-04-15  \n",
       "9          2021-04-15  \n",
       "10         2021-04-15  \n",
       "11         2021-04-15  \n",
       "12         2021-04-15  \n",
       "13         2021-04-15  \n",
       "14         2021-04-15  \n",
       "15         2021-04-15  \n",
       "16         2021-04-15  \n",
       "17         2021-04-15  "
      ],
      "text/html": "<div>\n<style scoped>\n    .dataframe tbody tr th:only-of-type {\n        vertical-align: middle;\n    }\n\n    .dataframe tbody tr th {\n        vertical-align: top;\n    }\n\n    .dataframe thead th {\n        text-align: right;\n    }\n</style>\n<table border=\"1\" class=\"dataframe\">\n  <thead>\n    <tr style=\"text-align: right;\">\n      <th></th>\n      <th>track_name</th>\n      <th>track_uri</th>\n      <th>track_release_date</th>\n    </tr>\n  </thead>\n  <tbody>\n    <tr>\n      <th>0</th>\n      <td>INTRO</td>\n      <td>spotify:track:75R9wfcPJyCXZ6fXV1IgQC</td>\n      <td>2021-04-15</td>\n    </tr>\n    <tr>\n      <th>1</th>\n      <td>ROBBERY IS BACK</td>\n      <td>spotify:track:5aEw37R8QW6ppQIYYHVKKp</td>\n      <td>2021-04-15</td>\n    </tr>\n    <tr>\n      <th>2</th>\n      <td>SNOB</td>\n      <td>spotify:track:6fgwmfyNfaf9FxfcyjHdNA</td>\n      <td>2021-04-15</td>\n    </tr>\n    <tr>\n      <th>3</th>\n      <td>OMG</td>\n      <td>spotify:track:4xvetmz1M1ECP8pkUkQezO</td>\n      <td>2021-04-15</td>\n    </tr>\n    <tr>\n      <th>4</th>\n      <td>TOXISCH</td>\n      <td>spotify:track:2E7aEEoiG3tE9RSWfDaVEZ</td>\n      <td>2021-04-15</td>\n    </tr>\n    <tr>\n      <th>5</th>\n      <td>PAPI CHAIN</td>\n      <td>spotify:track:6Px6MaH8R6CQfneAD6cVjB</td>\n      <td>2021-04-15</td>\n    </tr>\n    <tr>\n      <th>6</th>\n      <td>HELIKOPTER</td>\n      <td>spotify:track:41Xwa5IuEqV0okKFygVZI8</td>\n      <td>2021-04-15</td>\n    </tr>\n    <tr>\n      <th>7</th>\n      <td>FREITAG</td>\n      <td>spotify:track:1zLuIPhPHk14s4I5uOtqaS</td>\n      <td>2021-04-15</td>\n    </tr>\n    <tr>\n      <th>8</th>\n      <td>WAS NOCH</td>\n      <td>spotify:track:161RGAj9K2svKcfPwDNnFl</td>\n      <td>2021-04-15</td>\n    </tr>\n    <tr>\n      <th>9</th>\n      <td>ERSTER TAG</td>\n      <td>spotify:track:1kxXL1KDNUuO8mTgP5sFQw</td>\n      <td>2021-04-15</td>\n    </tr>\n    <tr>\n      <th>10</th>\n      <td>PARIS</td>\n      <td>spotify:track:01fHqSOFl73ihgwKGodfnh</td>\n      <td>2021-04-15</td>\n    </tr>\n    <tr>\n      <th>11</th>\n      <td>MINUSMENSCH</td>\n      <td>spotify:track:6LQjeCvIgzXuBofA4FHtrr</td>\n      <td>2021-04-15</td>\n    </tr>\n    <tr>\n      <th>12</th>\n      <td>8 STUNDEN ARBEIT</td>\n      <td>spotify:track:6WtQn4OhVPGrW0kaBXoQG9</td>\n      <td>2021-04-15</td>\n    </tr>\n    <tr>\n      <th>13</th>\n      <td>TRAP OG</td>\n      <td>spotify:track:3iIpv8suz3odKCYqlKiwL5</td>\n      <td>2021-04-15</td>\n    </tr>\n    <tr>\n      <th>14</th>\n      <td>REGEN UND NIESEL</td>\n      <td>spotify:track:3vauLpX7158qOP131qvmkl</td>\n      <td>2021-04-15</td>\n    </tr>\n    <tr>\n      <th>15</th>\n      <td>50/50</td>\n      <td>spotify:track:1uhR7K2eKwfkVSYEeqXbEd</td>\n      <td>2021-04-15</td>\n    </tr>\n    <tr>\n      <th>16</th>\n      <td>ASZENDENT TRAPSTAR</td>\n      <td>spotify:track:5YTujqBybHaLofbFSTrHqo</td>\n      <td>2021-04-15</td>\n    </tr>\n    <tr>\n      <th>17</th>\n      <td>WOLKEN</td>\n      <td>spotify:track:4u49B5JHLMUhnRqfen2JCs</td>\n      <td>2021-04-15</td>\n    </tr>\n  </tbody>\n</table>\n</div>"
     },
     "metadata": {},
     "execution_count": 30
    }
   ],
   "source": [
    "tracks[tracks[\"track_release_date\"] == \"2021-04-15\"]"
   ]
  },
  {
   "cell_type": "code",
   "execution_count": 76,
   "metadata": {},
   "outputs": [],
   "source": [
    "import datetime\n",
    "\n",
    "def str_to_date(date_as_str):\n",
    "    date_time_obj = datetime.datetime.strptime(date_as_str, '%Y-%m-%d')\n",
    "    return date_time_obj.date()"
   ]
  },
  {
   "cell_type": "code",
   "execution_count": 94,
   "metadata": {},
   "outputs": [],
   "source": []
  },
  {
   "cell_type": "code",
   "execution_count": 108,
   "metadata": {},
   "outputs": [
    {
     "output_type": "execute_result",
     "data": {
      "text/plain": [
       "        track_name                             track_uri track_release_date  \\\n",
       "0            INTRO  spotify:track:75R9wfcPJyCXZ6fXV1IgQC         2021-04-15   \n",
       "1  ROBBERY IS BACK  spotify:track:5aEw37R8QW6ppQIYYHVKKp         2021-04-15   \n",
       "2             SNOB  spotify:track:6fgwmfyNfaf9FxfcyjHdNA         2021-04-15   \n",
       "3              OMG  spotify:track:4xvetmz1M1ECP8pkUkQezO         2021-04-15   \n",
       "4          TOXISCH  spotify:track:2E7aEEoiG3tE9RSWfDaVEZ         2021-04-15   \n",
       "\n",
       "  track_release_date_datetime days_since_release  \n",
       "0                  2021-04-15               None  \n",
       "1                  2021-04-15               None  \n",
       "2                  2021-04-15               None  \n",
       "3                  2021-04-15               None  \n",
       "4                  2021-04-15               None  "
      ],
      "text/html": "<div>\n<style scoped>\n    .dataframe tbody tr th:only-of-type {\n        vertical-align: middle;\n    }\n\n    .dataframe tbody tr th {\n        vertical-align: top;\n    }\n\n    .dataframe thead th {\n        text-align: right;\n    }\n</style>\n<table border=\"1\" class=\"dataframe\">\n  <thead>\n    <tr style=\"text-align: right;\">\n      <th></th>\n      <th>track_name</th>\n      <th>track_uri</th>\n      <th>track_release_date</th>\n      <th>track_release_date_datetime</th>\n      <th>days_since_release</th>\n    </tr>\n  </thead>\n  <tbody>\n    <tr>\n      <th>0</th>\n      <td>INTRO</td>\n      <td>spotify:track:75R9wfcPJyCXZ6fXV1IgQC</td>\n      <td>2021-04-15</td>\n      <td>2021-04-15</td>\n      <td>None</td>\n    </tr>\n    <tr>\n      <th>1</th>\n      <td>ROBBERY IS BACK</td>\n      <td>spotify:track:5aEw37R8QW6ppQIYYHVKKp</td>\n      <td>2021-04-15</td>\n      <td>2021-04-15</td>\n      <td>None</td>\n    </tr>\n    <tr>\n      <th>2</th>\n      <td>SNOB</td>\n      <td>spotify:track:6fgwmfyNfaf9FxfcyjHdNA</td>\n      <td>2021-04-15</td>\n      <td>2021-04-15</td>\n      <td>None</td>\n    </tr>\n    <tr>\n      <th>3</th>\n      <td>OMG</td>\n      <td>spotify:track:4xvetmz1M1ECP8pkUkQezO</td>\n      <td>2021-04-15</td>\n      <td>2021-04-15</td>\n      <td>None</td>\n    </tr>\n    <tr>\n      <th>4</th>\n      <td>TOXISCH</td>\n      <td>spotify:track:2E7aEEoiG3tE9RSWfDaVEZ</td>\n      <td>2021-04-15</td>\n      <td>2021-04-15</td>\n      <td>None</td>\n    </tr>\n  </tbody>\n</table>\n</div>"
     },
     "metadata": {},
     "execution_count": 108
    }
   ],
   "source": [
    "tracks[\"track_release_date_datetime\"] = tracks[\"track_release_date\"].apply(str_to_date)\n",
    "tracks.head()"
   ]
  },
  {
   "cell_type": "code",
   "execution_count": 115,
   "metadata": {},
   "outputs": [
    {
     "output_type": "execute_result",
     "data": {
      "text/plain": [
       "        track_name                             track_uri track_release_date  \\\n",
       "0            INTRO  spotify:track:75R9wfcPJyCXZ6fXV1IgQC         2021-04-15   \n",
       "1  ROBBERY IS BACK  spotify:track:5aEw37R8QW6ppQIYYHVKKp         2021-04-15   \n",
       "2             SNOB  spotify:track:6fgwmfyNfaf9FxfcyjHdNA         2021-04-15   \n",
       "3              OMG  spotify:track:4xvetmz1M1ECP8pkUkQezO         2021-04-15   \n",
       "4          TOXISCH  spotify:track:2E7aEEoiG3tE9RSWfDaVEZ         2021-04-15   \n",
       "\n",
       "  track_release_date_datetime  days_since_release  \n",
       "0                  2021-04-15                   3  \n",
       "1                  2021-04-15                   3  \n",
       "2                  2021-04-15                   3  \n",
       "3                  2021-04-15                   3  \n",
       "4                  2021-04-15                   3  "
      ],
      "text/html": "<div>\n<style scoped>\n    .dataframe tbody tr th:only-of-type {\n        vertical-align: middle;\n    }\n\n    .dataframe tbody tr th {\n        vertical-align: top;\n    }\n\n    .dataframe thead th {\n        text-align: right;\n    }\n</style>\n<table border=\"1\" class=\"dataframe\">\n  <thead>\n    <tr style=\"text-align: right;\">\n      <th></th>\n      <th>track_name</th>\n      <th>track_uri</th>\n      <th>track_release_date</th>\n      <th>track_release_date_datetime</th>\n      <th>days_since_release</th>\n    </tr>\n  </thead>\n  <tbody>\n    <tr>\n      <th>0</th>\n      <td>INTRO</td>\n      <td>spotify:track:75R9wfcPJyCXZ6fXV1IgQC</td>\n      <td>2021-04-15</td>\n      <td>2021-04-15</td>\n      <td>3</td>\n    </tr>\n    <tr>\n      <th>1</th>\n      <td>ROBBERY IS BACK</td>\n      <td>spotify:track:5aEw37R8QW6ppQIYYHVKKp</td>\n      <td>2021-04-15</td>\n      <td>2021-04-15</td>\n      <td>3</td>\n    </tr>\n    <tr>\n      <th>2</th>\n      <td>SNOB</td>\n      <td>spotify:track:6fgwmfyNfaf9FxfcyjHdNA</td>\n      <td>2021-04-15</td>\n      <td>2021-04-15</td>\n      <td>3</td>\n    </tr>\n    <tr>\n      <th>3</th>\n      <td>OMG</td>\n      <td>spotify:track:4xvetmz1M1ECP8pkUkQezO</td>\n      <td>2021-04-15</td>\n      <td>2021-04-15</td>\n      <td>3</td>\n    </tr>\n    <tr>\n      <th>4</th>\n      <td>TOXISCH</td>\n      <td>spotify:track:2E7aEEoiG3tE9RSWfDaVEZ</td>\n      <td>2021-04-15</td>\n      <td>2021-04-15</td>\n      <td>3</td>\n    </tr>\n  </tbody>\n</table>\n</div>"
     },
     "metadata": {},
     "execution_count": 115
    }
   ],
   "source": [
    "tracks[\"days_since_release\"] = tracks[\"track_release_date_datetime\"].apply(datediff_today)\n",
    "tracks.head()"
   ]
  },
  {
   "cell_type": "code",
   "execution_count": 114,
   "metadata": {},
   "outputs": [],
   "source": [
    "def datediff_today(date):\n",
    "    today = datetime.date.today()\n",
    "    return (today - date).days"
   ]
  },
  {
   "cell_type": "code",
   "execution_count": null,
   "metadata": {},
   "outputs": [],
   "source": [
    "def get_all_tracks_from_artists(artist_uri_list):\n",
    "    \"\"\"A function returning tracks from a list of artist URIs as pandas DataFrame.\n",
    "\n",
    "    Args:\n",
    "        artist_uri_list (list): A list containing artist URIs.\n",
    "\n",
    "    Returns:\n",
    "        DataFrame: A pandas DataFrame containing track names, URIs, release dates and artist names.\n",
    "    \"\"\"\n",
    "\n",
    "    track_list = [[\"track_name\", \"track_uri\", \"track_release_date\", \"artist_name\"]]\n",
    "    track_df = pd.DataFrame(columns=track_list[0])\n",
    "\n",
    "    for artist_uri in artist_uri_list:\n",
    "        # Get artist name and albums\n",
    "        artist_name = sp.artist(artist_uri)[\"name\"]\n",
    "        albums = get_albums_from_artists([artist_uri])\n",
    "\n",
    "        # Get tracks from artist albums\n",
    "        tracks_artist_df = get_tracks_from_albums(albums[\"album_uri\"].to_list())\n",
    "        tracks_artist_df[\"artist_name\"] = artist_name\n",
    "\n",
    "        # Append new songs to dataframe\n",
    "        track_df = track_df.append(tracks_artist_df)\n",
    "    \n",
    "    return track_df"
   ]
  },
  {
   "cell_type": "code",
   "execution_count": null,
   "metadata": {},
   "outputs": [],
   "source": [
    "get_all_tracks_from_artists([\"spotify:artist:3NjbpG6MmFGVLXwbcPXH90\", \"spotify:artist:6ynopZPMBXcIGBI9M02Un5\"])"
   ]
  },
  {
   "cell_type": "code",
   "execution_count": null,
   "metadata": {},
   "outputs": [],
   "source": [
    "artists = pd.read_csv(\"data/artists.csv\")\n",
    "artists.head()"
   ]
  },
  {
   "cell_type": "code",
   "execution_count": null,
   "metadata": {},
   "outputs": [],
   "source": []
  }
 ],
 "metadata": {
  "kernelspec": {
   "name": "python3",
   "display_name": "Python 3",
   "language": "python"
  },
  "metadata": {
   "interpreter": {
    "hash": "31f2aee4e71d21fbe5cf8b01ff0e069b9275f58929596ceb00d14d90e3e16cd6"
   }
  }
 },
 "nbformat": 4,
 "nbformat_minor": 5
}