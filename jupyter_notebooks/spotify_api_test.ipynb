{
 "cells": [
  {
   "source": [
    "## Import required packages"
   ],
   "cell_type": "markdown",
   "metadata": {}
  },
  {
   "cell_type": "code",
   "execution_count": 117,
   "metadata": {},
   "outputs": [],
   "source": [
    "import numpy as np \n",
    "import pandas as pd\n",
    "import spotipy\n",
    "from spotipy.oauth2 import SpotifyClientCredentials\n",
    "\n",
    "import json"
   ]
  },
  {
   "cell_type": "code",
   "execution_count": 118,
   "metadata": {},
   "outputs": [
    {
     "output_type": "stream",
     "name": "stdout",
     "text": [
      "README.md  bot_env  data  requirements.txt  resources  scripts\n"
     ]
    }
   ],
   "source": [
    "!ls"
   ]
  },
  {
   "source": [
    "## Authenticate with Spotify API"
   ],
   "cell_type": "markdown",
   "metadata": {}
  },
  {
   "cell_type": "code",
   "execution_count": 161,
   "id": "f039e346",
   "metadata": {
    "tags": []
   },
   "outputs": [],
   "source": [
    "# Credentials are specified in the \"activate\" script from the venv and can be obtained in the Spotify Developer Platform\n",
    "auth_manager = SpotifyClientCredentials()\n",
    "sp = spotipy.Spotify(auth_manager=auth_manager)"
   ]
  },
  {
   "source": [
    "### Show playlists to check if connection works"
   ],
   "cell_type": "code",
   "metadata": {},
   "execution_count": 120,
   "outputs": []
  },
  {
   "cell_type": "code",
   "execution_count": 121,
   "metadata": {},
   "outputs": [
    {
     "output_type": "stream",
     "name": "stdout",
     "text": [
      "   1 spotify:playlist:6pm6NYE8x95f3qu9nnkY3s Gestört\n   2 spotify:playlist:3w4J1cBM7G8A3FJpmkQCks Jump Rope Fun\n   3 spotify:playlist:22F1DzV6R5WTtaU5ZBx1Qh Alman Rap\n   4 spotify:playlist:7sRH3hcKY9vi5Om9hKWED6 Dancehall Excellence\n   5 spotify:playlist:7bKCXksqUpwO2u77DNDB6E Schweche Excellence\n   6 spotify:playlist:2NL4skzzhfDIWGexthIoti Cloudrap und sowas\n   7 spotify:playlist:45jLD4C7zDnVwmrs9Q2Yst Chill Excellence\n   8 spotify:playlist:7JLpMUShki1OtQBbq0SJSD Spulung\n   9 spotify:playlist:6UcKBh9vtZOGIMEx1FGXGj Hip Hop Excellence\n  10 spotify:playlist:4IksObf8ZWrLkyWhcOp1Vp Classic Excellence\n  11 spotify:playlist:62jUJdEWgsCmrh2EpCABRG Rock Excellence\n  12 spotify:playlist:5QKkIeuRrBQ2L501fAi5vy Melancholy Excellence\n  13 spotify:playlist:7i2EfrY01tIbPZ81sQXKKE Nostalgia Excellence\n  14 spotify:playlist:5mJ07XW8fizydNB9mqRzKk Zu Arg für Bib LEL²\n  15 spotify:playlist:48sxmNjqMplmnbSjnky8Tz Memes\n"
     ]
    }
   ],
   "source": [
    "playlists = sp.user_playlists('arthevard')\n",
    "while playlists:\n",
    "    for i, playlist in enumerate(playlists['items']):\n",
    "        print(\"%4d %s %s\" % (i + 1 + playlists['offset'], playlist['uri'],  playlist['name']))\n",
    "    if playlists['next']:\n",
    "        playlists = sp.next(playlists)\n",
    "    else:\n",
    "        playlists = None"
   ]
  },
  {
   "cell_type": "code",
   "execution_count": 122,
   "metadata": {},
   "outputs": [
    {
     "output_type": "stream",
     "name": "stdout",
     "text": [
      "{\n  \"external_urls\": {\n    \"spotify\": \"https://open.spotify.com/artist/3NjbpG6MmFGVLXwbcPXH90\"\n  },\n  \"followers\": {\n    \"href\": null,\n    \"total\": 62776\n  },\n  \"genres\": [\n    \"frauenrap\",\n    \"german cloud rap\",\n    \"german drill\",\n    \"german hip hop\",\n    \"indie deutschrap\"\n  ],\n  \"href\": \"https://api.spotify.com/v1/artists/3NjbpG6MmFGVLXwbcPXH90\",\n  \"id\": \"3NjbpG6MmFGVLXwbcPXH90\",\n  \"images\": [\n    {\n      \"height\": 640,\n      \"url\": \"https://i.scdn.co/image/4115e7cde63d48bbda9cfc1e9aeb83efc4b720c8\",\n      \"width\": 640\n    },\n    {\n      \"height\": 320,\n      \"url\": \"https://i.scdn.co/image/1a600d30661d2d2cf6d087964a15033aa65599a3\",\n      \"width\": 320\n    },\n    {\n      \"height\": 160,\n      \"url\": \"https://i.scdn.co/image/3d5a6e4c11865aff5f08046820d24696e411ba04\",\n      \"width\": 160\n    }\n  ],\n  \"name\": \"Haiyti\",\n  \"popularity\": 55,\n  \"type\": \"artist\",\n  \"uri\": \"spotify:artist:3NjbpG6MmFGVLXwbcPXH90\"\n}\n"
     ]
    }
   ],
   "source": [
    "\n",
    "urn = 'spotify:artist:3NjbpG6MmFGVLXwbcPXH90'\n",
    "artist = sp.artist(urn)\n",
    "print(json.dumps(artist, indent=2))\n",
    "\n"
   ]
  },
  {
   "source": [
    "# Import users and artists URIs from CSV files"
   ],
   "cell_type": "markdown",
   "metadata": {}
  },
  {
   "cell_type": "code",
   "execution_count": 123,
   "metadata": {},
   "outputs": [],
   "source": [
    "user_uri_list = pd.read_csv(\"data/users.csv\", sep=\";\")[\"user_uri\"]\n",
    "artist_uri_list = pd.read_csv(\"data/artists.csv\", sep=\";\")[\"artist_uri\"]"
   ]
  },
  {
   "cell_type": "code",
   "execution_count": 124,
   "metadata": {},
   "outputs": [
    {
     "output_type": "execute_result",
     "data": {
      "text/plain": [
       "{'display_name': 'Carsten We',\n",
       " 'external_urls': {'spotify': 'https://open.spotify.com/user/arthevard'},\n",
       " 'followers': {'href': None, 'total': 21},\n",
       " 'href': 'https://api.spotify.com/v1/users/arthevard',\n",
       " 'id': 'arthevard',\n",
       " 'images': [{'height': None,\n",
       "   'url': 'https://scontent-lcy1-1.xx.fbcdn.net/v/t1.6435-1/p320x320/36594189_10214425521425989_1333356851693092864_n.jpg?_nc_cat=110&ccb=1-3&_nc_sid=0c64ff&_nc_ohc=ghacmvYW1FsAX_t8azS&_nc_ht=scontent-lcy1-1.xx&tp=6&oh=db285e745ce7b56774c9bb105b6220eb&oe=60A3559D',\n",
       "   'width': None}],\n",
       " 'type': 'user',\n",
       " 'uri': 'spotify:user:arthevard'}"
      ]
     },
     "metadata": {},
     "execution_count": 124
    }
   ],
   "source": [
    "user = sp.user(user_uri_list[0])\n",
    "user"
   ]
  },
  {
   "source": [
    "## Write basic functions to extract data from artists"
   ],
   "cell_type": "markdown",
   "metadata": {}
  },
  {
   "cell_type": "code",
   "execution_count": 164,
   "metadata": {},
   "outputs": [],
   "source": [
    "def get_albums_from_artists(artist_uri_list):\n",
    "    \"\"\"A function returning albums from a list of artist URIs as pandas DataFrame.\n",
    "\n",
    "    Args:\n",
    "        artist_uri_list (list): A list containing artist URIs.\n",
    "\n",
    "    Returns:\n",
    "        DataFrame: A pandas DataFrame containing artist names, URIs, and release date.\n",
    "    \"\"\"\n",
    "\n",
    "    # Create header for output df\n",
    "    albums_list = [[\"name\", \"album_uri\", \"album_release_date\", \"artist_uri\"]]\n",
    "\n",
    "    # Loop through list of artist uris\n",
    "    for artist_uri in artist_uri_list:\n",
    "        # Get album from artist\n",
    "        albums = sp.artist_albums(artist_uri)\n",
    "        \n",
    "        # Append each album to list\n",
    "        for album in albums[\"items\"]:\n",
    "            album_name = album[\"name\"]\n",
    "            album_uri = album[\"uri\"]\n",
    "            album_release_date = album[\"release_date\"]\n",
    "            albums_list.append([album_name, album_uri, album_release_date, artist_uri])\n",
    "\n",
    "    # Create df from list of albums for all artist\n",
    "    albums_df = pd.DataFrame(data=albums_list[1:], columns=albums_list[0])\n",
    "\n",
    "    return albums_df\n"
   ]
  },
  {
   "cell_type": "code",
   "execution_count": 165,
   "metadata": {},
   "outputs": [
    {
     "output_type": "stream",
     "name": "stdout",
     "text": [
      "Number of albums: 40\nHead of albums dataframe:\n"
     ]
    },
    {
     "output_type": "execute_result",
     "data": {
      "text/plain": [
       "                  name                             album_uri  \\\n",
       "0         MIESES LEBEN  spotify:album:18iDtijC0YUY43T2teLEiK   \n",
       "1           influencer  spotify:album:7MguPrKUh0eyZY0VqmMO0G   \n",
       "2              SUI SUI  spotify:album:2M51xiotVFca2hT7OppmgK   \n",
       "3  Nightliner Reloaded  spotify:album:5KYZEBBBwDPZ9UY9Tpr3E0   \n",
       "4            Perroquet  spotify:album:5h5iAcFwOtsKZJZRMCZ8HV   \n",
       "\n",
       "  album_release_date                             artist_uri  \n",
       "0         2021-04-15  spotify:artist:3NjbpG6MmFGVLXwbcPXH90  \n",
       "1         2020-12-04  spotify:artist:3NjbpG6MmFGVLXwbcPXH90  \n",
       "2         2020-07-03  spotify:artist:3NjbpG6MmFGVLXwbcPXH90  \n",
       "3         2019-10-25  spotify:artist:3NjbpG6MmFGVLXwbcPXH90  \n",
       "4         2019-06-07  spotify:artist:3NjbpG6MmFGVLXwbcPXH90  "
      ],
      "text/html": "<div>\n<style scoped>\n    .dataframe tbody tr th:only-of-type {\n        vertical-align: middle;\n    }\n\n    .dataframe tbody tr th {\n        vertical-align: top;\n    }\n\n    .dataframe thead th {\n        text-align: right;\n    }\n</style>\n<table border=\"1\" class=\"dataframe\">\n  <thead>\n    <tr style=\"text-align: right;\">\n      <th></th>\n      <th>name</th>\n      <th>album_uri</th>\n      <th>album_release_date</th>\n      <th>artist_uri</th>\n    </tr>\n  </thead>\n  <tbody>\n    <tr>\n      <th>0</th>\n      <td>MIESES LEBEN</td>\n      <td>spotify:album:18iDtijC0YUY43T2teLEiK</td>\n      <td>2021-04-15</td>\n      <td>spotify:artist:3NjbpG6MmFGVLXwbcPXH90</td>\n    </tr>\n    <tr>\n      <th>1</th>\n      <td>influencer</td>\n      <td>spotify:album:7MguPrKUh0eyZY0VqmMO0G</td>\n      <td>2020-12-04</td>\n      <td>spotify:artist:3NjbpG6MmFGVLXwbcPXH90</td>\n    </tr>\n    <tr>\n      <th>2</th>\n      <td>SUI SUI</td>\n      <td>spotify:album:2M51xiotVFca2hT7OppmgK</td>\n      <td>2020-07-03</td>\n      <td>spotify:artist:3NjbpG6MmFGVLXwbcPXH90</td>\n    </tr>\n    <tr>\n      <th>3</th>\n      <td>Nightliner Reloaded</td>\n      <td>spotify:album:5KYZEBBBwDPZ9UY9Tpr3E0</td>\n      <td>2019-10-25</td>\n      <td>spotify:artist:3NjbpG6MmFGVLXwbcPXH90</td>\n    </tr>\n    <tr>\n      <th>4</th>\n      <td>Perroquet</td>\n      <td>spotify:album:5h5iAcFwOtsKZJZRMCZ8HV</td>\n      <td>2019-06-07</td>\n      <td>spotify:artist:3NjbpG6MmFGVLXwbcPXH90</td>\n    </tr>\n  </tbody>\n</table>\n</div>"
     },
     "metadata": {},
     "execution_count": 165
    }
   ],
   "source": [
    "albums_df = get_albums_from_artists(artist_uri_list)\n",
    "print(\"Number of albums: \" + str(albums_df.shape[0]))\n",
    "print(\"Head of albums dataframe:\")\n",
    "albums_df.head()"
   ]
  },
  {
   "cell_type": "code",
   "execution_count": 156,
   "metadata": {},
   "outputs": [],
   "source": [
    "def get_tracks_from_albums(album_uri_list):\n",
    "    \"\"\"A function returning tracks from a list of album URIs as pandas DataFrame.\n",
    "\n",
    "    Args:\n",
    "        album_uri_list (list): A list containing album URIs.\n",
    "\n",
    "    Returns:\n",
    "        DataFrame: A pandas DataFrame containing track names, URIs and release dates.\n",
    "    \"\"\"\n",
    "\n",
    "    track_list = [[\"track_name\", \"track_uri\", \"track_release_date\"]]\n",
    "\n",
    "    for album_uri in album_uri_list:\n",
    "        album_tracks = sp.album_tracks(album_uri, limit=50, offset=0)[\"items\"]\n",
    "        count_tracks_in_album = len(album_tracks)\n",
    "        album_release_date = sp.album(album_uri)[\"release_date\"]\n",
    "\n",
    "        # This part is probably very slow and should be improved by accessing the API less often\n",
    "        for track_number in range(count_tracks_in_album):\n",
    "            track_name = album_tracks[track_number][\"name\"]\n",
    "            track_uri = album_tracks[track_number][\"uri\"]\n",
    "             \n",
    "            track_list.append([track_name, track_uri, album_release_date])\n",
    "\n",
    "    # Create df from list of tracks for all albums\n",
    "    track_df = pd.DataFrame(data=track_list[1:], columns=track_list[0])\n",
    "    \n",
    "    return track_df"
   ]
  },
  {
   "cell_type": "code",
   "execution_count": 108,
   "metadata": {},
   "outputs": [
    {
     "output_type": "execute_result",
     "data": {
      "text/plain": [
       "        track_name                             track_uri track_release_date\n",
       "0            INTRO  spotify:track:75R9wfcPJyCXZ6fXV1IgQC         2021-04-15\n",
       "1  ROBBERY IS BACK  spotify:track:5aEw37R8QW6ppQIYYHVKKp         2021-04-15\n",
       "2             SNOB  spotify:track:6fgwmfyNfaf9FxfcyjHdNA         2021-04-15\n",
       "3              OMG  spotify:track:4xvetmz1M1ECP8pkUkQezO         2021-04-15\n",
       "4          TOXISCH  spotify:track:2E7aEEoiG3tE9RSWfDaVEZ         2021-04-15"
      ],
      "text/html": "<div>\n<style scoped>\n    .dataframe tbody tr th:only-of-type {\n        vertical-align: middle;\n    }\n\n    .dataframe tbody tr th {\n        vertical-align: top;\n    }\n\n    .dataframe thead th {\n        text-align: right;\n    }\n</style>\n<table border=\"1\" class=\"dataframe\">\n  <thead>\n    <tr style=\"text-align: right;\">\n      <th></th>\n      <th>track_name</th>\n      <th>track_uri</th>\n      <th>track_release_date</th>\n    </tr>\n  </thead>\n  <tbody>\n    <tr>\n      <th>0</th>\n      <td>INTRO</td>\n      <td>spotify:track:75R9wfcPJyCXZ6fXV1IgQC</td>\n      <td>2021-04-15</td>\n    </tr>\n    <tr>\n      <th>1</th>\n      <td>ROBBERY IS BACK</td>\n      <td>spotify:track:5aEw37R8QW6ppQIYYHVKKp</td>\n      <td>2021-04-15</td>\n    </tr>\n    <tr>\n      <th>2</th>\n      <td>SNOB</td>\n      <td>spotify:track:6fgwmfyNfaf9FxfcyjHdNA</td>\n      <td>2021-04-15</td>\n    </tr>\n    <tr>\n      <th>3</th>\n      <td>OMG</td>\n      <td>spotify:track:4xvetmz1M1ECP8pkUkQezO</td>\n      <td>2021-04-15</td>\n    </tr>\n    <tr>\n      <th>4</th>\n      <td>TOXISCH</td>\n      <td>spotify:track:2E7aEEoiG3tE9RSWfDaVEZ</td>\n      <td>2021-04-15</td>\n    </tr>\n  </tbody>\n</table>\n</div>"
     },
     "metadata": {},
     "execution_count": 108
    }
   ],
   "source": [
    "get_tracks_from_albums([\"18iDtijC0YUY43T2teLEiK\"]).head()[]\n"
   ]
  },
  {
   "cell_type": "code",
   "execution_count": 157,
   "metadata": {},
   "outputs": [],
   "source": [
    "def get_all_tracks_from_artists(artist_uri_list):\n",
    "    \"\"\"A function returning tracks from a list of artist URIs as pandas DataFrame.\n",
    "\n",
    "    Args:\n",
    "        artist_uri_list (list): A list containing artist URIs.\n",
    "\n",
    "    Returns:\n",
    "        DataFrame: A pandas DataFrame containing track names, URIs, release dates and artist names.\n",
    "    \"\"\"\n",
    "\n",
    "    track_list = [[\"track_name\", \"track_uri\", \"track_release_date\", \"artist_name\"]]\n",
    "    track_df = pd.DataFrame(columns=track_list[0])\n",
    "\n",
    "    for artist_uri in artist_uri_list:\n",
    "        # Get artist name and albums\n",
    "        artist_name = sp.artist(artist_uri)[\"name\"]\n",
    "        albums = get_albums_from_artists([artist_uri])\n",
    "\n",
    "        # Get tracks from artist albums\n",
    "        tracks_artist_df = get_tracks_from_albums(albums[\"album_uri\"].to_list())\n",
    "        tracks_artist_df[\"artist_name\"] = artist_name\n",
    "\n",
    "        # Append new songs to dataframe\n",
    "        track_df = track_df.append(tracks_artist_df)\n",
    "    \n",
    "    return track_df"
   ]
  },
  {
   "cell_type": "code",
   "execution_count": 158,
   "metadata": {},
   "outputs": [
    {
     "output_type": "execute_result",
     "data": {
      "text/plain": [
       "                           track_name                             track_uri  \\\n",
       "0                               INTRO  spotify:track:75R9wfcPJyCXZ6fXV1IgQC   \n",
       "1                     ROBBERY IS BACK  spotify:track:5aEw37R8QW6ppQIYYHVKKp   \n",
       "2                                SNOB  spotify:track:6fgwmfyNfaf9FxfcyjHdNA   \n",
       "3                                 OMG  spotify:track:4xvetmz1M1ECP8pkUkQezO   \n",
       "4                             TOXISCH  spotify:track:2E7aEEoiG3tE9RSWfDaVEZ   \n",
       "..                                ...                                   ...   \n",
       "120                          JA!NEIN!  spotify:track:1noU9duBwVtBWH4YgaNmbW   \n",
       "121                              KMDF  spotify:track:0B15pY84UNp3dJBb6A62c1   \n",
       "122                       Morgenstern  spotify:track:4sXhDZ9BW7S713fCdQkmQZ   \n",
       "123                     Conan x Xenia  spotify:track:1mfmCQWZhV30L4Aj8ytMLz   \n",
       "124  1999 Pt. 6 (Gabriel vs. Luzifer)  spotify:track:7kuwGDeUPrNhYsYsQeUunK   \n",
       "\n",
       "    track_release_date artist_name  \n",
       "0           2021-04-15      Haiyti  \n",
       "1           2021-04-15      Haiyti  \n",
       "2           2021-04-15      Haiyti  \n",
       "3           2021-04-15      Haiyti  \n",
       "4           2021-04-15      Haiyti  \n",
       "..                 ...         ...  \n",
       "120         2020-07-23  Haftbefehl  \n",
       "121         2020-06-03  Haftbefehl  \n",
       "122         2020-05-28  Haftbefehl  \n",
       "123         2020-05-07  Haftbefehl  \n",
       "124         2020-04-30  Haftbefehl  \n",
       "\n",
       "[260 rows x 4 columns]"
      ],
      "text/html": "<div>\n<style scoped>\n    .dataframe tbody tr th:only-of-type {\n        vertical-align: middle;\n    }\n\n    .dataframe tbody tr th {\n        vertical-align: top;\n    }\n\n    .dataframe thead th {\n        text-align: right;\n    }\n</style>\n<table border=\"1\" class=\"dataframe\">\n  <thead>\n    <tr style=\"text-align: right;\">\n      <th></th>\n      <th>track_name</th>\n      <th>track_uri</th>\n      <th>track_release_date</th>\n      <th>artist_name</th>\n    </tr>\n  </thead>\n  <tbody>\n    <tr>\n      <th>0</th>\n      <td>INTRO</td>\n      <td>spotify:track:75R9wfcPJyCXZ6fXV1IgQC</td>\n      <td>2021-04-15</td>\n      <td>Haiyti</td>\n    </tr>\n    <tr>\n      <th>1</th>\n      <td>ROBBERY IS BACK</td>\n      <td>spotify:track:5aEw37R8QW6ppQIYYHVKKp</td>\n      <td>2021-04-15</td>\n      <td>Haiyti</td>\n    </tr>\n    <tr>\n      <th>2</th>\n      <td>SNOB</td>\n      <td>spotify:track:6fgwmfyNfaf9FxfcyjHdNA</td>\n      <td>2021-04-15</td>\n      <td>Haiyti</td>\n    </tr>\n    <tr>\n      <th>3</th>\n      <td>OMG</td>\n      <td>spotify:track:4xvetmz1M1ECP8pkUkQezO</td>\n      <td>2021-04-15</td>\n      <td>Haiyti</td>\n    </tr>\n    <tr>\n      <th>4</th>\n      <td>TOXISCH</td>\n      <td>spotify:track:2E7aEEoiG3tE9RSWfDaVEZ</td>\n      <td>2021-04-15</td>\n      <td>Haiyti</td>\n    </tr>\n    <tr>\n      <th>...</th>\n      <td>...</td>\n      <td>...</td>\n      <td>...</td>\n      <td>...</td>\n    </tr>\n    <tr>\n      <th>120</th>\n      <td>JA!NEIN!</td>\n      <td>spotify:track:1noU9duBwVtBWH4YgaNmbW</td>\n      <td>2020-07-23</td>\n      <td>Haftbefehl</td>\n    </tr>\n    <tr>\n      <th>121</th>\n      <td>KMDF</td>\n      <td>spotify:track:0B15pY84UNp3dJBb6A62c1</td>\n      <td>2020-06-03</td>\n      <td>Haftbefehl</td>\n    </tr>\n    <tr>\n      <th>122</th>\n      <td>Morgenstern</td>\n      <td>spotify:track:4sXhDZ9BW7S713fCdQkmQZ</td>\n      <td>2020-05-28</td>\n      <td>Haftbefehl</td>\n    </tr>\n    <tr>\n      <th>123</th>\n      <td>Conan x Xenia</td>\n      <td>spotify:track:1mfmCQWZhV30L4Aj8ytMLz</td>\n      <td>2020-05-07</td>\n      <td>Haftbefehl</td>\n    </tr>\n    <tr>\n      <th>124</th>\n      <td>1999 Pt. 6 (Gabriel vs. Luzifer)</td>\n      <td>spotify:track:7kuwGDeUPrNhYsYsQeUunK</td>\n      <td>2020-04-30</td>\n      <td>Haftbefehl</td>\n    </tr>\n  </tbody>\n</table>\n<p>260 rows × 4 columns</p>\n</div>"
     },
     "metadata": {},
     "execution_count": 158
    }
   ],
   "source": [
    "get_all_tracks_from_artists([\"spotify:artist:3NjbpG6MmFGVLXwbcPXH90\", \"spotify:artist:6ynopZPMBXcIGBI9M02Un5\"])"
   ]
  },
  {
   "cell_type": "code",
   "execution_count": 155,
   "metadata": {},
   "outputs": [
    {
     "output_type": "execute_result",
     "data": {
      "text/plain": [
       "'INTRO'"
      ]
     },
     "metadata": {},
     "execution_count": 155
    }
   ],
   "source": [
    "\r\n",
    "\r\n",
    "\r\n",
    "album_tracks[0][\"name\"]"
   ]
  },
  {
   "cell_type": "code",
   "execution_count": null,
   "metadata": {},
   "outputs": [],
   "source": []
  }
 ],
 "metadata": {
  "kernelspec": {
   "name": "python3",
   "display_name": "Python 3",
   "language": "python"
  },
  "metadata": {
   "interpreter": {
    "hash": "31f2aee4e71d21fbe5cf8b01ff0e069b9275f58929596ceb00d14d90e3e16cd6"
   }
  }
 },
 "nbformat": 4,
 "nbformat_minor": 5
}