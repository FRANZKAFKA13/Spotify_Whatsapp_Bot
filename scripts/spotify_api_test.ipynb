{
 "cells": [
  {
   "source": [
    "## Import required packages"
   ],
   "cell_type": "markdown",
   "metadata": {}
  },
  {
   "cell_type": "code",
   "execution_count": 1,
   "metadata": {},
   "outputs": [],
   "source": [
    "import numpy as np \n",
    "import pandas as pd\n",
    "import spotipy\n",
    "from spotipy.oauth2 import SpotifyClientCredentials\n",
    "\n",
    "import json"
   ]
  },
  {
   "cell_type": "code",
   "execution_count": 2,
   "metadata": {},
   "outputs": [
    {
     "output_type": "stream",
     "name": "stdout",
     "text": [
      "README.md  bot_env  data  requirements.txt  resources  scripts\n"
     ]
    }
   ],
   "source": [
    "!ls"
   ]
  },
  {
   "source": [
    "## Authenticate with Spotify API"
   ],
   "cell_type": "markdown",
   "metadata": {}
  },
  {
   "cell_type": "code",
   "execution_count": 3,
   "id": "f039e346",
   "metadata": {
    "tags": []
   },
   "outputs": [],
   "source": [
    "# Credentials are specified in the \"activate\" script from the venv and can be obtained in the Spotify Developer Platform\n",
    "auth_manager = SpotifyClientCredentials()\n",
    "sp = spotipy.Spotify(auth_manager=auth_manager)"
   ]
  },
  {
   "source": [
    "### Show playlists to check if connection works"
   ],
   "cell_type": "code",
   "metadata": {},
   "execution_count": 4,
   "outputs": []
  },
  {
   "cell_type": "code",
   "execution_count": 5,
   "metadata": {},
   "outputs": [
    {
     "output_type": "stream",
     "name": "stdout",
     "text": [
      "   1 spotify:playlist:6pm6NYE8x95f3qu9nnkY3s Gestört\n   2 spotify:playlist:3w4J1cBM7G8A3FJpmkQCks Jump Rope Fun\n   3 spotify:playlist:22F1DzV6R5WTtaU5ZBx1Qh Alman Rap\n   4 spotify:playlist:7sRH3hcKY9vi5Om9hKWED6 Dancehall Excellence\n   5 spotify:playlist:7bKCXksqUpwO2u77DNDB6E Schweche Excellence\n   6 spotify:playlist:2NL4skzzhfDIWGexthIoti Cloudrap und sowas\n   7 spotify:playlist:45jLD4C7zDnVwmrs9Q2Yst Chill Excellence\n   8 spotify:playlist:7JLpMUShki1OtQBbq0SJSD Spulung\n   9 spotify:playlist:6UcKBh9vtZOGIMEx1FGXGj Hip Hop Excellence\n  10 spotify:playlist:4IksObf8ZWrLkyWhcOp1Vp Classic Excellence\n  11 spotify:playlist:62jUJdEWgsCmrh2EpCABRG Rock Excellence\n  12 spotify:playlist:5QKkIeuRrBQ2L501fAi5vy Melancholy Excellence\n  13 spotify:playlist:7i2EfrY01tIbPZ81sQXKKE Nostalgia Excellence\n  14 spotify:playlist:5mJ07XW8fizydNB9mqRzKk Zu Arg für Bib LEL²\n  15 spotify:playlist:48sxmNjqMplmnbSjnky8Tz Memes\n"
     ]
    }
   ],
   "source": [
    "playlists = sp.user_playlists('arthevard')\n",
    "while playlists:\n",
    "    for i, playlist in enumerate(playlists['items']):\n",
    "        print(\"%4d %s %s\" % (i + 1 + playlists['offset'], playlist['uri'],  playlist['name']))\n",
    "    if playlists['next']:\n",
    "        playlists = sp.next(playlists)\n",
    "    else:\n",
    "        playlists = None"
   ]
  },
  {
   "cell_type": "code",
   "execution_count": 6,
   "metadata": {},
   "outputs": [
    {
     "output_type": "stream",
     "name": "stdout",
     "text": [
      "{\n  \"external_urls\": {\n    \"spotify\": \"https://open.spotify.com/artist/3NjbpG6MmFGVLXwbcPXH90\"\n  },\n  \"followers\": {\n    \"href\": null,\n    \"total\": 62665\n  },\n  \"genres\": [\n    \"frauenrap\",\n    \"german cloud rap\",\n    \"german drill\",\n    \"german hip hop\",\n    \"indie deutschrap\"\n  ],\n  \"href\": \"https://api.spotify.com/v1/artists/3NjbpG6MmFGVLXwbcPXH90\",\n  \"id\": \"3NjbpG6MmFGVLXwbcPXH90\",\n  \"images\": [\n    {\n      \"height\": 640,\n      \"url\": \"https://i.scdn.co/image/4115e7cde63d48bbda9cfc1e9aeb83efc4b720c8\",\n      \"width\": 640\n    },\n    {\n      \"height\": 320,\n      \"url\": \"https://i.scdn.co/image/1a600d30661d2d2cf6d087964a15033aa65599a3\",\n      \"width\": 320\n    },\n    {\n      \"height\": 160,\n      \"url\": \"https://i.scdn.co/image/3d5a6e4c11865aff5f08046820d24696e411ba04\",\n      \"width\": 160\n    }\n  ],\n  \"name\": \"Haiyti\",\n  \"popularity\": 55,\n  \"type\": \"artist\",\n  \"uri\": \"spotify:artist:3NjbpG6MmFGVLXwbcPXH90\"\n}\n"
     ]
    }
   ],
   "source": [
    "\n",
    "urn = 'spotify:artist:3NjbpG6MmFGVLXwbcPXH90'\n",
    "artist = sp.artist(urn)\n",
    "print(json.dumps(artist, indent=2))\n",
    "\n"
   ]
  },
  {
   "source": [
    "# Import users and artists URIs from CSV files"
   ],
   "cell_type": "markdown",
   "metadata": {}
  },
  {
   "cell_type": "code",
   "execution_count": 75,
   "metadata": {},
   "outputs": [],
   "source": [
    "user_uri_list = pd.read_csv(\"data/users.csv\", sep=\";\")[\"user_uri\"]\n",
    "artist_uri_list = pd.read_csv(\"data/artists.csv\", sep=\";\")[\"artist_uri\"]"
   ]
  },
  {
   "cell_type": "code",
   "execution_count": 76,
   "metadata": {},
   "outputs": [
    {
     "output_type": "execute_result",
     "data": {
      "text/plain": [
       "{'display_name': 'Carsten We',\n",
       " 'external_urls': {'spotify': 'https://open.spotify.com/user/arthevard'},\n",
       " 'followers': {'href': None, 'total': 21},\n",
       " 'href': 'https://api.spotify.com/v1/users/arthevard',\n",
       " 'id': 'arthevard',\n",
       " 'images': [{'height': None,\n",
       "   'url': 'https://scontent.flux1-1.fna.fbcdn.net/v/t1.6435-1/p320x320/36594189_10214425521425989_1333356851693092864_n.jpg?_nc_cat=110&ccb=1-3&_nc_sid=0c64ff&_nc_ohc=Wjoor2MFCncAX9_svCX&_nc_ht=scontent.flux1-1.fna&tp=6&oh=bcf35634f57f710a24f1ebe907a8e89f&oe=609F611D',\n",
       "   'width': None}],\n",
       " 'type': 'user',\n",
       " 'uri': 'spotify:user:arthevard'}"
      ]
     },
     "metadata": {},
     "execution_count": 76
    }
   ],
   "source": [
    "user = sp.user(user_uri_list[0])\n",
    "user"
   ]
  },
  {
   "source": [
    "## Write basic functions to extract data from artists"
   ],
   "cell_type": "markdown",
   "metadata": {}
  },
  {
   "cell_type": "code",
   "execution_count": 43,
   "metadata": {},
   "outputs": [],
   "source": [
    "def get_songs_from_albums(album_list):\n",
    "\n",
    "    for album in album_list:\n",
    "        sui_sui_json = sp.album_tracks(album_list[album], limit=50, offset=0)\n",
    "        tracklist = sui_sui_json[\"items\"]\n",
    "\n",
    "        for track in range(len(tracklist)):\n",
    "            track_name = tracklist[track][\"name\"]\n",
    "            print(track_name)\n"
   ]
  },
  {
   "cell_type": "code",
   "execution_count": 62,
   "metadata": {},
   "outputs": [],
   "source": [
    "def get_albums_from_artists(artist_uri_list):\n",
    "    \n",
    "    # Create header for output df\n",
    "    albums_list = [['name', 'album_uri', 'artist_uri']]\n",
    "\n",
    "    # Loop through list of artist uris\n",
    "    for artist_uri in artist_uri_list:\n",
    "        # Get album from artist\n",
    "        albums = sp.artist_albums(artist_uri)\n",
    "        \n",
    "        # Append each album to list\n",
    "        for album in albums[\"items\"]:\n",
    "            album_name = album[\"name\"]\n",
    "            album_uri = album[\"uri\"]\n",
    "            albums_list.append([album_name, album_uri, artist_uri])\n",
    "\n",
    "    # Create df from list of albums for all artist\n",
    "    albums_df = pd.DataFrame(data=albums_list[1:], columns=albums_list[0])\n",
    "\n",
    "    return albums_df\n"
   ]
  },
  {
   "cell_type": "code",
   "execution_count": 74,
   "metadata": {},
   "outputs": [
    {
     "output_type": "execute_result",
     "data": {
      "text/plain": [
       "                                    name  \\\n",
       "0                           MIESES LEBEN   \n",
       "1                             influencer   \n",
       "2                                SUI SUI   \n",
       "3                    Nightliner Reloaded   \n",
       "4                              Perroquet   \n",
       "5                                    ATM   \n",
       "6                        Montenegro Zero   \n",
       "7                      Follow mich nicht   \n",
       "8                             City Tarif   \n",
       "9   FREITAG (The Belgian Stallion Remix)   \n",
       "10                               FREITAG   \n",
       "11                                WOLKEN   \n",
       "12                                 tokio   \n",
       "13                               zu real   \n",
       "14                                  burr   \n",
       "15                              comeback   \n",
       "16                               tak tak   \n",
       "17                        100.000 feinde   \n",
       "18                                 sweet   \n",
       "19  TOULOUSE (feat. Albi X) [SOSA REMIX]   \n",
       "20                      Das weisse Album   \n",
       "21                            Unzensiert   \n",
       "22                     Russisch Roulette   \n",
       "23            Russisch Roulette (Deluxe)   \n",
       "24                              Kanackis   \n",
       "25                     Azzlack Stereotyp   \n",
       "26                         Leuchtreklame   \n",
       "27                         Leuchtreklame   \n",
       "28                            Crackküche   \n",
       "29             Du weißt dass es Haft ist   \n",
       "30      Offen / Geschlossen (Short Edit)   \n",
       "31                            Lebe Leben   \n",
       "32                       Wieder am Block   \n",
       "33                       Ich will es Bar   \n",
       "34                            Casablanca   \n",
       "35                              JA!NEIN!   \n",
       "36                                  KMDF   \n",
       "37                           Morgenstern   \n",
       "38                         Conan x Xenia   \n",
       "39      1999 Pt. 6 (Gabriel vs. Luzifer)   \n",
       "\n",
       "                               album_uri  \\\n",
       "0   spotify:album:18iDtijC0YUY43T2teLEiK   \n",
       "1   spotify:album:7MguPrKUh0eyZY0VqmMO0G   \n",
       "2   spotify:album:2M51xiotVFca2hT7OppmgK   \n",
       "3   spotify:album:5KYZEBBBwDPZ9UY9Tpr3E0   \n",
       "4   spotify:album:5h5iAcFwOtsKZJZRMCZ8HV   \n",
       "5   spotify:album:6wsNMSecBx8FXB4FlSga5p   \n",
       "6   spotify:album:3JvHhoB5qndBlQFlTHfPIa   \n",
       "7   spotify:album:0JFOxeUNwyOsfXG1IBLGQO   \n",
       "8   spotify:album:6YEWMwhymNbTEatqBJXD00   \n",
       "9   spotify:album:5tfx4YsMa9gMalKg4gkk3I   \n",
       "10  spotify:album:2j4A6BlQS96SEHGTD7ZLjb   \n",
       "11  spotify:album:0XmMZmXUblsoohFVQhkj3N   \n",
       "12  spotify:album:0NPxgW2QZDFkFtHAogu7RO   \n",
       "13  spotify:album:2YrY6fi9441RIHm5NGEutX   \n",
       "14  spotify:album:4bNawIppwUzfJatt6rJbWd   \n",
       "15  spotify:album:3LC0ge2jN4RkGcFNFb8UG3   \n",
       "16  spotify:album:3VB1adEgQWAQYa80Y7Pkt8   \n",
       "17  spotify:album:075iHzJfKqvex0oyHPf5oF   \n",
       "18  spotify:album:35Xh5UsEDNRgmqdOyNJ31R   \n",
       "19  spotify:album:1ICFS7R6trcwisB9xg9OHE   \n",
       "20  spotify:album:1YKG4ksCAHSyxs8EfoYy2p   \n",
       "21  spotify:album:2e8rOyMcK9LsUwZp6Wt5W0   \n",
       "22  spotify:album:2Ckxf15L5H5geKzCOlwdhP   \n",
       "23  spotify:album:3K6MF35dS8vhxKvkcocAHc   \n",
       "24  spotify:album:2Sn6VvGj9iJXeOscejbIWu   \n",
       "25  spotify:album:44ejIOldJCu18mgiwj1zJ8   \n",
       "26  spotify:album:0udL0Ey5ssMMc9dDcp6ogZ   \n",
       "27  spotify:album:0UEdsxO1eKaJwbgA9yjTmc   \n",
       "28  spotify:album:3kqEbbokcSeTIkaVxvJYrc   \n",
       "29  spotify:album:2ABi2b7tQVD8RLGGltRdjt   \n",
       "30  spotify:album:0Hr30RUUa6m4gTHksFUBt9   \n",
       "31  spotify:album:47Gr54BHVDJ8FCl3E1JXSW   \n",
       "32  spotify:album:6leyi1qDjxKGobQcfL41KG   \n",
       "33  spotify:album:3j99MG0Mb4xmojwQ8laYdq   \n",
       "34  spotify:album:6ESQBrxdDLrEityK04ifjN   \n",
       "35  spotify:album:6dGlzvKGluJALAWRFIQ6TS   \n",
       "36  spotify:album:6p6RXoXEdMVO6pTNXyKTuv   \n",
       "37  spotify:album:3MbSGzhZY85jtjkaZzGgWQ   \n",
       "38  spotify:album:0OEBqwwZxa5aKEkDEDHzi6   \n",
       "39  spotify:album:2DAYxWEUZL2mA4xaOtF5np   \n",
       "\n",
       "                               artist_uri  \n",
       "0   spotify:artist:3NjbpG6MmFGVLXwbcPXH90  \n",
       "1   spotify:artist:3NjbpG6MmFGVLXwbcPXH90  \n",
       "2   spotify:artist:3NjbpG6MmFGVLXwbcPXH90  \n",
       "3   spotify:artist:3NjbpG6MmFGVLXwbcPXH90  \n",
       "4   spotify:artist:3NjbpG6MmFGVLXwbcPXH90  \n",
       "5   spotify:artist:3NjbpG6MmFGVLXwbcPXH90  \n",
       "6   spotify:artist:3NjbpG6MmFGVLXwbcPXH90  \n",
       "7   spotify:artist:3NjbpG6MmFGVLXwbcPXH90  \n",
       "8   spotify:artist:3NjbpG6MmFGVLXwbcPXH90  \n",
       "9   spotify:artist:3NjbpG6MmFGVLXwbcPXH90  \n",
       "10  spotify:artist:3NjbpG6MmFGVLXwbcPXH90  \n",
       "11  spotify:artist:3NjbpG6MmFGVLXwbcPXH90  \n",
       "12  spotify:artist:3NjbpG6MmFGVLXwbcPXH90  \n",
       "13  spotify:artist:3NjbpG6MmFGVLXwbcPXH90  \n",
       "14  spotify:artist:3NjbpG6MmFGVLXwbcPXH90  \n",
       "15  spotify:artist:3NjbpG6MmFGVLXwbcPXH90  \n",
       "16  spotify:artist:3NjbpG6MmFGVLXwbcPXH90  \n",
       "17  spotify:artist:3NjbpG6MmFGVLXwbcPXH90  \n",
       "18  spotify:artist:3NjbpG6MmFGVLXwbcPXH90  \n",
       "19  spotify:artist:3NjbpG6MmFGVLXwbcPXH90  \n",
       "20  spotify:artist:6ynopZPMBXcIGBI9M02Un5  \n",
       "21  spotify:artist:6ynopZPMBXcIGBI9M02Un5  \n",
       "22  spotify:artist:6ynopZPMBXcIGBI9M02Un5  \n",
       "23  spotify:artist:6ynopZPMBXcIGBI9M02Un5  \n",
       "24  spotify:artist:6ynopZPMBXcIGBI9M02Un5  \n",
       "25  spotify:artist:6ynopZPMBXcIGBI9M02Un5  \n",
       "26  spotify:artist:6ynopZPMBXcIGBI9M02Un5  \n",
       "27  spotify:artist:6ynopZPMBXcIGBI9M02Un5  \n",
       "28  spotify:artist:6ynopZPMBXcIGBI9M02Un5  \n",
       "29  spotify:artist:6ynopZPMBXcIGBI9M02Un5  \n",
       "30  spotify:artist:6ynopZPMBXcIGBI9M02Un5  \n",
       "31  spotify:artist:6ynopZPMBXcIGBI9M02Un5  \n",
       "32  spotify:artist:6ynopZPMBXcIGBI9M02Un5  \n",
       "33  spotify:artist:6ynopZPMBXcIGBI9M02Un5  \n",
       "34  spotify:artist:6ynopZPMBXcIGBI9M02Un5  \n",
       "35  spotify:artist:6ynopZPMBXcIGBI9M02Un5  \n",
       "36  spotify:artist:6ynopZPMBXcIGBI9M02Un5  \n",
       "37  spotify:artist:6ynopZPMBXcIGBI9M02Un5  \n",
       "38  spotify:artist:6ynopZPMBXcIGBI9M02Un5  \n",
       "39  spotify:artist:6ynopZPMBXcIGBI9M02Un5  "
      ],
      "text/html": "<div>\n<style scoped>\n    .dataframe tbody tr th:only-of-type {\n        vertical-align: middle;\n    }\n\n    .dataframe tbody tr th {\n        vertical-align: top;\n    }\n\n    .dataframe thead th {\n        text-align: right;\n    }\n</style>\n<table border=\"1\" class=\"dataframe\">\n  <thead>\n    <tr style=\"text-align: right;\">\n      <th></th>\n      <th>name</th>\n      <th>album_uri</th>\n      <th>artist_uri</th>\n    </tr>\n  </thead>\n  <tbody>\n    <tr>\n      <th>0</th>\n      <td>MIESES LEBEN</td>\n      <td>spotify:album:18iDtijC0YUY43T2teLEiK</td>\n      <td>spotify:artist:3NjbpG6MmFGVLXwbcPXH90</td>\n    </tr>\n    <tr>\n      <th>1</th>\n      <td>influencer</td>\n      <td>spotify:album:7MguPrKUh0eyZY0VqmMO0G</td>\n      <td>spotify:artist:3NjbpG6MmFGVLXwbcPXH90</td>\n    </tr>\n    <tr>\n      <th>2</th>\n      <td>SUI SUI</td>\n      <td>spotify:album:2M51xiotVFca2hT7OppmgK</td>\n      <td>spotify:artist:3NjbpG6MmFGVLXwbcPXH90</td>\n    </tr>\n    <tr>\n      <th>3</th>\n      <td>Nightliner Reloaded</td>\n      <td>spotify:album:5KYZEBBBwDPZ9UY9Tpr3E0</td>\n      <td>spotify:artist:3NjbpG6MmFGVLXwbcPXH90</td>\n    </tr>\n    <tr>\n      <th>4</th>\n      <td>Perroquet</td>\n      <td>spotify:album:5h5iAcFwOtsKZJZRMCZ8HV</td>\n      <td>spotify:artist:3NjbpG6MmFGVLXwbcPXH90</td>\n    </tr>\n    <tr>\n      <th>5</th>\n      <td>ATM</td>\n      <td>spotify:album:6wsNMSecBx8FXB4FlSga5p</td>\n      <td>spotify:artist:3NjbpG6MmFGVLXwbcPXH90</td>\n    </tr>\n    <tr>\n      <th>6</th>\n      <td>Montenegro Zero</td>\n      <td>spotify:album:3JvHhoB5qndBlQFlTHfPIa</td>\n      <td>spotify:artist:3NjbpG6MmFGVLXwbcPXH90</td>\n    </tr>\n    <tr>\n      <th>7</th>\n      <td>Follow mich nicht</td>\n      <td>spotify:album:0JFOxeUNwyOsfXG1IBLGQO</td>\n      <td>spotify:artist:3NjbpG6MmFGVLXwbcPXH90</td>\n    </tr>\n    <tr>\n      <th>8</th>\n      <td>City Tarif</td>\n      <td>spotify:album:6YEWMwhymNbTEatqBJXD00</td>\n      <td>spotify:artist:3NjbpG6MmFGVLXwbcPXH90</td>\n    </tr>\n    <tr>\n      <th>9</th>\n      <td>FREITAG (The Belgian Stallion Remix)</td>\n      <td>spotify:album:5tfx4YsMa9gMalKg4gkk3I</td>\n      <td>spotify:artist:3NjbpG6MmFGVLXwbcPXH90</td>\n    </tr>\n    <tr>\n      <th>10</th>\n      <td>FREITAG</td>\n      <td>spotify:album:2j4A6BlQS96SEHGTD7ZLjb</td>\n      <td>spotify:artist:3NjbpG6MmFGVLXwbcPXH90</td>\n    </tr>\n    <tr>\n      <th>11</th>\n      <td>WOLKEN</td>\n      <td>spotify:album:0XmMZmXUblsoohFVQhkj3N</td>\n      <td>spotify:artist:3NjbpG6MmFGVLXwbcPXH90</td>\n    </tr>\n    <tr>\n      <th>12</th>\n      <td>tokio</td>\n      <td>spotify:album:0NPxgW2QZDFkFtHAogu7RO</td>\n      <td>spotify:artist:3NjbpG6MmFGVLXwbcPXH90</td>\n    </tr>\n    <tr>\n      <th>13</th>\n      <td>zu real</td>\n      <td>spotify:album:2YrY6fi9441RIHm5NGEutX</td>\n      <td>spotify:artist:3NjbpG6MmFGVLXwbcPXH90</td>\n    </tr>\n    <tr>\n      <th>14</th>\n      <td>burr</td>\n      <td>spotify:album:4bNawIppwUzfJatt6rJbWd</td>\n      <td>spotify:artist:3NjbpG6MmFGVLXwbcPXH90</td>\n    </tr>\n    <tr>\n      <th>15</th>\n      <td>comeback</td>\n      <td>spotify:album:3LC0ge2jN4RkGcFNFb8UG3</td>\n      <td>spotify:artist:3NjbpG6MmFGVLXwbcPXH90</td>\n    </tr>\n    <tr>\n      <th>16</th>\n      <td>tak tak</td>\n      <td>spotify:album:3VB1adEgQWAQYa80Y7Pkt8</td>\n      <td>spotify:artist:3NjbpG6MmFGVLXwbcPXH90</td>\n    </tr>\n    <tr>\n      <th>17</th>\n      <td>100.000 feinde</td>\n      <td>spotify:album:075iHzJfKqvex0oyHPf5oF</td>\n      <td>spotify:artist:3NjbpG6MmFGVLXwbcPXH90</td>\n    </tr>\n    <tr>\n      <th>18</th>\n      <td>sweet</td>\n      <td>spotify:album:35Xh5UsEDNRgmqdOyNJ31R</td>\n      <td>spotify:artist:3NjbpG6MmFGVLXwbcPXH90</td>\n    </tr>\n    <tr>\n      <th>19</th>\n      <td>TOULOUSE (feat. Albi X) [SOSA REMIX]</td>\n      <td>spotify:album:1ICFS7R6trcwisB9xg9OHE</td>\n      <td>spotify:artist:3NjbpG6MmFGVLXwbcPXH90</td>\n    </tr>\n    <tr>\n      <th>20</th>\n      <td>Das weisse Album</td>\n      <td>spotify:album:1YKG4ksCAHSyxs8EfoYy2p</td>\n      <td>spotify:artist:6ynopZPMBXcIGBI9M02Un5</td>\n    </tr>\n    <tr>\n      <th>21</th>\n      <td>Unzensiert</td>\n      <td>spotify:album:2e8rOyMcK9LsUwZp6Wt5W0</td>\n      <td>spotify:artist:6ynopZPMBXcIGBI9M02Un5</td>\n    </tr>\n    <tr>\n      <th>22</th>\n      <td>Russisch Roulette</td>\n      <td>spotify:album:2Ckxf15L5H5geKzCOlwdhP</td>\n      <td>spotify:artist:6ynopZPMBXcIGBI9M02Un5</td>\n    </tr>\n    <tr>\n      <th>23</th>\n      <td>Russisch Roulette (Deluxe)</td>\n      <td>spotify:album:3K6MF35dS8vhxKvkcocAHc</td>\n      <td>spotify:artist:6ynopZPMBXcIGBI9M02Un5</td>\n    </tr>\n    <tr>\n      <th>24</th>\n      <td>Kanackis</td>\n      <td>spotify:album:2Sn6VvGj9iJXeOscejbIWu</td>\n      <td>spotify:artist:6ynopZPMBXcIGBI9M02Un5</td>\n    </tr>\n    <tr>\n      <th>25</th>\n      <td>Azzlack Stereotyp</td>\n      <td>spotify:album:44ejIOldJCu18mgiwj1zJ8</td>\n      <td>spotify:artist:6ynopZPMBXcIGBI9M02Un5</td>\n    </tr>\n    <tr>\n      <th>26</th>\n      <td>Leuchtreklame</td>\n      <td>spotify:album:0udL0Ey5ssMMc9dDcp6ogZ</td>\n      <td>spotify:artist:6ynopZPMBXcIGBI9M02Un5</td>\n    </tr>\n    <tr>\n      <th>27</th>\n      <td>Leuchtreklame</td>\n      <td>spotify:album:0UEdsxO1eKaJwbgA9yjTmc</td>\n      <td>spotify:artist:6ynopZPMBXcIGBI9M02Un5</td>\n    </tr>\n    <tr>\n      <th>28</th>\n      <td>Crackküche</td>\n      <td>spotify:album:3kqEbbokcSeTIkaVxvJYrc</td>\n      <td>spotify:artist:6ynopZPMBXcIGBI9M02Un5</td>\n    </tr>\n    <tr>\n      <th>29</th>\n      <td>Du weißt dass es Haft ist</td>\n      <td>spotify:album:2ABi2b7tQVD8RLGGltRdjt</td>\n      <td>spotify:artist:6ynopZPMBXcIGBI9M02Un5</td>\n    </tr>\n    <tr>\n      <th>30</th>\n      <td>Offen / Geschlossen (Short Edit)</td>\n      <td>spotify:album:0Hr30RUUa6m4gTHksFUBt9</td>\n      <td>spotify:artist:6ynopZPMBXcIGBI9M02Un5</td>\n    </tr>\n    <tr>\n      <th>31</th>\n      <td>Lebe Leben</td>\n      <td>spotify:album:47Gr54BHVDJ8FCl3E1JXSW</td>\n      <td>spotify:artist:6ynopZPMBXcIGBI9M02Un5</td>\n    </tr>\n    <tr>\n      <th>32</th>\n      <td>Wieder am Block</td>\n      <td>spotify:album:6leyi1qDjxKGobQcfL41KG</td>\n      <td>spotify:artist:6ynopZPMBXcIGBI9M02Un5</td>\n    </tr>\n    <tr>\n      <th>33</th>\n      <td>Ich will es Bar</td>\n      <td>spotify:album:3j99MG0Mb4xmojwQ8laYdq</td>\n      <td>spotify:artist:6ynopZPMBXcIGBI9M02Un5</td>\n    </tr>\n    <tr>\n      <th>34</th>\n      <td>Casablanca</td>\n      <td>spotify:album:6ESQBrxdDLrEityK04ifjN</td>\n      <td>spotify:artist:6ynopZPMBXcIGBI9M02Un5</td>\n    </tr>\n    <tr>\n      <th>35</th>\n      <td>JA!NEIN!</td>\n      <td>spotify:album:6dGlzvKGluJALAWRFIQ6TS</td>\n      <td>spotify:artist:6ynopZPMBXcIGBI9M02Un5</td>\n    </tr>\n    <tr>\n      <th>36</th>\n      <td>KMDF</td>\n      <td>spotify:album:6p6RXoXEdMVO6pTNXyKTuv</td>\n      <td>spotify:artist:6ynopZPMBXcIGBI9M02Un5</td>\n    </tr>\n    <tr>\n      <th>37</th>\n      <td>Morgenstern</td>\n      <td>spotify:album:3MbSGzhZY85jtjkaZzGgWQ</td>\n      <td>spotify:artist:6ynopZPMBXcIGBI9M02Un5</td>\n    </tr>\n    <tr>\n      <th>38</th>\n      <td>Conan x Xenia</td>\n      <td>spotify:album:0OEBqwwZxa5aKEkDEDHzi6</td>\n      <td>spotify:artist:6ynopZPMBXcIGBI9M02Un5</td>\n    </tr>\n    <tr>\n      <th>39</th>\n      <td>1999 Pt. 6 (Gabriel vs. Luzifer)</td>\n      <td>spotify:album:2DAYxWEUZL2mA4xaOtF5np</td>\n      <td>spotify:artist:6ynopZPMBXcIGBI9M02Un5</td>\n    </tr>\n  </tbody>\n</table>\n</div>"
     },
     "metadata": {},
     "execution_count": 74
    }
   ],
   "source": [
    "get_albums_from_artists(artist_uri_list)"
   ]
  },
  {
   "cell_type": "code",
   "execution_count": null,
   "metadata": {},
   "outputs": [],
   "source": []
  }
 ],
 "metadata": {
  "kernelspec": {
   "name": "python3",
   "display_name": "Python 3",
   "language": "python"
  },
  "metadata": {
   "interpreter": {
    "hash": "31f2aee4e71d21fbe5cf8b01ff0e069b9275f58929596ceb00d14d90e3e16cd6"
   }
  }
 },
 "nbformat": 4,
 "nbformat_minor": 5
}