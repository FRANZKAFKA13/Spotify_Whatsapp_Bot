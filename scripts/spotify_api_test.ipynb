{
 "cells": [
  {
   "source": [
    "## Import required packages"
   ],
   "cell_type": "markdown",
   "metadata": {}
  },
  {
   "cell_type": "code",
   "execution_count": 53,
   "metadata": {},
   "outputs": [],
   "source": [
    "import numpy as np \n",
    "import pandas as pd\n",
    "import spotipy\n",
    "from spotipy.oauth2 import SpotifyClientCredentials\n",
    "\n",
    "import json"
   ]
  },
  {
   "source": [
    "## Authenticate with Spotify API"
   ],
   "cell_type": "markdown",
   "metadata": {}
  },
  {
   "cell_type": "code",
   "execution_count": 54,
   "id": "f039e346",
   "metadata": {
    "tags": []
   },
   "outputs": [],
   "source": [
    "# Credentials are specified in the \"activate\" script from the venv and can be obtained in the Spotify Developer Platform\n",
    "auth_manager = SpotifyClientCredentials()\n",
    "sp = spotipy.Spotify(auth_manager=auth_manager)"
   ]
  },
  {
   "source": [
    "### Show playlists to check if connection works"
   ],
   "cell_type": "markdown",
   "metadata": {}
  },
  {
   "cell_type": "code",
   "execution_count": 55,
   "metadata": {},
   "outputs": [
    {
     "output_type": "stream",
     "name": "stdout",
     "text": [
      "   1 spotify:playlist:6pm6NYE8x95f3qu9nnkY3s Gestört\n   2 spotify:playlist:3w4J1cBM7G8A3FJpmkQCks Jump Rope Fun\n   3 spotify:playlist:22F1DzV6R5WTtaU5ZBx1Qh Alman Rap\n   4 spotify:playlist:7sRH3hcKY9vi5Om9hKWED6 Dancehall Excellence\n   5 spotify:playlist:7bKCXksqUpwO2u77DNDB6E Schweche Excellence\n   6 spotify:playlist:2NL4skzzhfDIWGexthIoti Cloudrap und sowas\n   7 spotify:playlist:45jLD4C7zDnVwmrs9Q2Yst Chill Excellence\n   8 spotify:playlist:7JLpMUShki1OtQBbq0SJSD Spulung\n   9 spotify:playlist:6UcKBh9vtZOGIMEx1FGXGj Hip Hop Excellence\n  10 spotify:playlist:4IksObf8ZWrLkyWhcOp1Vp Classic Excellence\n  11 spotify:playlist:62jUJdEWgsCmrh2EpCABRG Rock Excellence\n  12 spotify:playlist:5QKkIeuRrBQ2L501fAi5vy Melancholy Excellence\n  13 spotify:playlist:7i2EfrY01tIbPZ81sQXKKE Nostalgia Excellence\n  14 spotify:playlist:5mJ07XW8fizydNB9mqRzKk Zu Arg für Bib LEL²\n  15 spotify:playlist:48sxmNjqMplmnbSjnky8Tz Memes\n"
     ]
    }
   ],
   "source": [
    "playlists = sp.user_playlists('arthevard')\n",
    "while playlists:\n",
    "    for i, playlist in enumerate(playlists['items']):\n",
    "        print(\"%4d %s %s\" % (i + 1 + playlists['offset'], playlist['uri'],  playlist['name']))\n",
    "    if playlists['next']:\n",
    "        playlists = sp.next(playlists)\n",
    "    else:\n",
    "        playlists = None"
   ]
  },
  {
   "cell_type": "code",
   "execution_count": 56,
   "metadata": {},
   "outputs": [
    {
     "output_type": "stream",
     "name": "stdout",
     "text": [
      "{\n  \"external_urls\": {\n    \"spotify\": \"https://open.spotify.com/artist/3NjbpG6MmFGVLXwbcPXH90\"\n  },\n  \"followers\": {\n    \"href\": null,\n    \"total\": 62665\n  },\n  \"genres\": [\n    \"frauenrap\",\n    \"german cloud rap\",\n    \"german drill\",\n    \"german hip hop\",\n    \"indie deutschrap\"\n  ],\n  \"href\": \"https://api.spotify.com/v1/artists/3NjbpG6MmFGVLXwbcPXH90\",\n  \"id\": \"3NjbpG6MmFGVLXwbcPXH90\",\n  \"images\": [\n    {\n      \"height\": 640,\n      \"url\": \"https://i.scdn.co/image/4115e7cde63d48bbda9cfc1e9aeb83efc4b720c8\",\n      \"width\": 640\n    },\n    {\n      \"height\": 320,\n      \"url\": \"https://i.scdn.co/image/1a600d30661d2d2cf6d087964a15033aa65599a3\",\n      \"width\": 320\n    },\n    {\n      \"height\": 160,\n      \"url\": \"https://i.scdn.co/image/3d5a6e4c11865aff5f08046820d24696e411ba04\",\n      \"width\": 160\n    }\n  ],\n  \"name\": \"Haiyti\",\n  \"popularity\": 55,\n  \"type\": \"artist\",\n  \"uri\": \"spotify:artist:3NjbpG6MmFGVLXwbcPXH90\"\n}\n"
     ]
    }
   ],
   "source": [
    "\n",
    "urn = 'spotify:artist:3NjbpG6MmFGVLXwbcPXH90'\n",
    "artist = sp.artist(urn)\n",
    "print(json.dumps(artist, indent=2))\n",
    "\n"
   ]
  },
  {
   "source": [
    "# Import users"
   ],
   "cell_type": "markdown",
   "metadata": {}
  },
  {
   "cell_type": "code",
   "execution_count": 52,
   "metadata": {},
   "outputs": [
    {
     "output_type": "execute_result",
     "data": {
      "text/plain": [
       "                      UserId First name\n",
       "0                  arthevard    Carsten\n",
       "1  8tztgi3t9xqhammw7h7yfua8x      Sören\n",
       "2           ce3d9958fbc14024     Philip"
      ],
      "text/html": "<div>\n<style scoped>\n    .dataframe tbody tr th:only-of-type {\n        vertical-align: middle;\n    }\n\n    .dataframe tbody tr th {\n        vertical-align: top;\n    }\n\n    .dataframe thead th {\n        text-align: right;\n    }\n</style>\n<table border=\"1\" class=\"dataframe\">\n  <thead>\n    <tr style=\"text-align: right;\">\n      <th></th>\n      <th>UserId</th>\n      <th>First name</th>\n    </tr>\n  </thead>\n  <tbody>\n    <tr>\n      <th>0</th>\n      <td>arthevard</td>\n      <td>Carsten</td>\n    </tr>\n    <tr>\n      <th>1</th>\n      <td>8tztgi3t9xqhammw7h7yfua8x</td>\n      <td>Sören</td>\n    </tr>\n    <tr>\n      <th>2</th>\n      <td>ce3d9958fbc14024</td>\n      <td>Philip</td>\n    </tr>\n  </tbody>\n</table>\n</div>"
     },
     "metadata": {},
     "execution_count": 52
    }
   ],
   "source": [
    "pd.read_csv(\"../data/users.csv\", sep=\";\")"
   ]
  },
  {
   "cell_type": "code",
   "execution_count": 65,
   "metadata": {},
   "outputs": [
    {
     "output_type": "stream",
     "name": "stdout",
     "text": [
      "{'display_name': 'Carsten We', 'external_urls': {'spotify': 'https://open.spotify.com/user/arthevard'}, 'followers': {'href': None, 'total': 21}, 'href': 'https://api.spotify.com/v1/users/arthevard', 'id': 'arthevard', 'images': [{'height': None, 'url': 'https://scontent.flux1-1.fna.fbcdn.net/v/t1.6435-1/p320x320/36594189_10214425521425989_1333356851693092864_n.jpg?_nc_cat=110&ccb=1-3&_nc_sid=0c64ff&_nc_ohc=Wjoor2MFCncAX9_svCX&_nc_ht=scontent.flux1-1.fna&tp=6&oh=bcf35634f57f710a24f1ebe907a8e89f&oe=609F611D', 'width': None}], 'type': 'user', 'uri': 'spotify:user:arthevard'}\n"
     ]
    }
   ],
   "source": [
    "user = sp.user('arthevard')\n",
    "print(user)"
   ]
  },
  {
   "cell_type": "code",
   "execution_count": 67,
   "metadata": {},
   "outputs": [
    {
     "output_type": "execute_result",
     "data": {
      "text/plain": [
       "dict"
      ]
     },
     "metadata": {},
     "execution_count": 67
    }
   ],
   "source": [
    "type(user)"
   ]
  },
  {
   "cell_type": "code",
   "execution_count": 66,
   "metadata": {},
   "outputs": [
    {
     "output_type": "execute_result",
     "data": {
      "text/plain": [
       "{'display_name': 'Carsten We',\n",
       " 'external_urls': {'spotify': 'https://open.spotify.com/user/arthevard'},\n",
       " 'followers': {'href': None, 'total': 21},\n",
       " 'href': 'https://api.spotify.com/v1/users/arthevard',\n",
       " 'id': 'arthevard',\n",
       " 'images': [{'height': None,\n",
       "   'url': 'https://scontent.flux1-1.fna.fbcdn.net/v/t1.6435-1/p320x320/36594189_10214425521425989_1333356851693092864_n.jpg?_nc_cat=110&ccb=1-3&_nc_sid=0c64ff&_nc_ohc=Wjoor2MFCncAX9_svCX&_nc_ht=scontent.flux1-1.fna&tp=6&oh=bcf35634f57f710a24f1ebe907a8e89f&oe=609F611D',\n",
       "   'width': None}],\n",
       " 'type': 'user',\n",
       " 'uri': 'spotify:user:arthevard'}"
      ]
     },
     "metadata": {},
     "execution_count": 66
    }
   ],
   "source": [
    "user"
   ]
  },
  {
   "cell_type": "code",
   "execution_count": null,
   "metadata": {},
   "outputs": [],
   "source": []
  }
 ],
 "metadata": {
  "kernelspec": {
   "display_name": "Python 3",
   "language": "python",
   "name": "python3"
  }
 },
 "nbformat": 4,
 "nbformat_minor": 5
}